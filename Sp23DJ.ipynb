{
 "cells": [
  {
   "cell_type": "code",
   "execution_count": 1,
   "id": "dbe6373e",
   "metadata": {},
   "outputs": [],
   "source": [
    "import pandas as pd\n",
    "import requests\n",
    "from bs4 import BeautifulSoup\n"
   ]
  },
  {
   "cell_type": "code",
   "execution_count": 2,
   "id": "be23cec7",
   "metadata": {},
   "outputs": [
    {
     "name": "stdout",
     "output_type": "stream",
     "text": [
      "Scraping data for 2010\n",
      "Data for 2010 saved successfully!\n",
      "Scraping data for 2011\n",
      "Data for 2011 saved successfully!\n",
      "Scraping data for 2012\n",
      "Data for 2012 saved successfully!\n",
      "Scraping data for 2013\n",
      "Data for 2013 saved successfully!\n",
      "Scraping data for 2014\n",
      "Data for 2014 saved successfully!\n",
      "Scraping data for 2015\n",
      "Data for 2015 saved successfully!\n",
      "Scraping data for 2016\n",
      "Data for 2016 saved successfully!\n",
      "Scraping data for 2017\n",
      "Data for 2017 saved successfully!\n",
      "Scraping data for 2018\n",
      "Data for 2018 saved successfully!\n",
      "Scraping data for 2019\n",
      "Data for 2019 saved successfully!\n",
      "Scraping data for 2020\n",
      "Data for 2020 saved successfully!\n",
      "Scraping data for 2021\n",
      "Data for 2021 saved successfully!\n",
      "Scraping data for 2022\n",
      "Data for 2022 saved successfully!\n"
     ]
    }
   ],
   "source": [
    "# List of years to scrape data for\n",
    "years = list(range(2010, 2023))\n",
    "\n",
    "# Loop over each year\n",
    "for year in years:\n",
    "    print(f\"Scraping data for {year}\")\n",
    "    \n",
    "    # URL to scrape for rushing data\n",
    "    rushing_url = f\"https://www.pro-football-reference.com/years/{year}/rushing.htm#rushing\"\n",
    "\n",
    "    # Make a GET request to the URL for rushing data\n",
    "    rushing_response = requests.get(rushing_url)\n",
    "\n",
    "    # Parse the HTML content using Beautiful Soup for rushing data\n",
    "    rushing_soup = BeautifulSoup(rushing_response.content, \"html.parser\")\n",
    "\n",
    "    # Find the table containing the rushing data\n",
    "    rushing_table = rushing_soup.find(\"table\", {\"id\": \"rushing\"})\n",
    "\n",
    "    # Use Pandas to read the table data into a DataFrame\n",
    "    rushing_df = pd.read_html(str(rushing_table))[0]\n",
    "\n",
    "    # Save the DataFrame to a CSV file in the specified folder\n",
    "    rushing_df.to_csv(f\"/Users/atijmahesh/Desktop/BSASpring2023/{year}/{year}_rushing_data.csv\", index=False)\n",
    "\n",
    "    # URL to scrape for receiving data\n",
    "    receiving_url = f\"https://www.pro-football-reference.com/years/{year}/receiving.htm#receiving\"\n",
    "\n",
    "    # Make a GET request to the URL for receiving data\n",
    "    receiving_response = requests.get(receiving_url)\n",
    "\n",
    "    # Parse the HTML content using Beautiful Soup for receiving data\n",
    "    receiving_soup = BeautifulSoup(receiving_response.content, \"html.parser\")\n",
    "\n",
    "    # Find the table containing the receiving data\n",
    "    receiving_table = receiving_soup.find(\"table\", {\"id\": \"receiving\"})\n",
    "\n",
    "    # Use Pandas to read the table data into a DataFrame\n",
    "    receiving_df = pd.read_html(str(receiving_table))[0]\n",
    "\n",
    "    # Save the DataFrame to a CSV file in the specified folder\n",
    "    receiving_df.to_csv(f\"/Users/atijmahesh/Desktop/BSASpring2023/{year}/{year}_receiving_data.csv\", index=False)\n",
    "\n",
    "    print(f\"Data for {year} saved successfully!\")\n"
   ]
  },
  {
   "cell_type": "code",
   "execution_count": null,
   "id": "f252bbdd",
   "metadata": {},
   "outputs": [],
   "source": []
  },
  {
   "cell_type": "code",
   "execution_count": null,
   "id": "6cbc552e",
   "metadata": {},
   "outputs": [],
   "source": []
  },
  {
   "cell_type": "code",
   "execution_count": null,
   "id": "c50edd63",
   "metadata": {},
   "outputs": [],
   "source": []
  }
 ],
 "metadata": {
  "kernelspec": {
   "display_name": "Python 3 (ipykernel)",
   "language": "python",
   "name": "python3"
  },
  "language_info": {
   "codemirror_mode": {
    "name": "ipython",
    "version": 3
   },
   "file_extension": ".py",
   "mimetype": "text/x-python",
   "name": "python",
   "nbconvert_exporter": "python",
   "pygments_lexer": "ipython3",
   "version": "3.10.9"
  }
 },
 "nbformat": 4,
 "nbformat_minor": 5
}
